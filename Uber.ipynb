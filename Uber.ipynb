{
  "nbformat": 4,
  "nbformat_minor": 0,
  "metadata": {
    "colab": {
      "private_outputs": true,
      "provenance": [],
      "collapsed_sections": [
        "MSa1f5Uengrz",
        "GF8Ens_Soomf",
        "0wOQAZs5pc--",
        "K5QZ13OEpz2H",
        "lQ7QKXXCp7Bj",
        "448CDAPjqfQr",
        "KSlN3yHqYklG",
        "t6dVpIINYklI",
        "ijmpgYnKYklI",
        "-JiQyfWJYklI",
        "EM7whBJCYoAo",
        "fge-S5ZAYoAp",
        "85gYPyotYoAp",
        "RoGjAbkUYoAp",
        "4Of9eVA-YrdM",
        "iky9q4vBYrdO",
        "F6T5p64dYrdO",
        "y-Ehk30pYrdP",
        "bamQiAODYuh1",
        "QHF8YVU7Yuh3",
        "GwzvFGzlYuh3",
        "qYpmQ266Yuh3",
        "OH-pJp9IphqM",
        "bbFf2-_FphqN",
        "_ouA3fa0phqN",
        "Seke61FWphqN",
        "PIIx-8_IphqN",
        "t27r6nlMphqO",
        "r2jJGEOYphqO",
        "b0JNsNcRphqO",
        "BZR9WyysphqO",
        "jj7wYXLtphqO",
        "eZrbJ2SmphqO",
        "rFu4xreNphqO",
        "YJ55k-q6phqO",
        "gCFgpxoyphqP",
        "OVtJsKN_phqQ",
        "lssrdh5qphqQ",
        "U2RJ9gkRphqQ",
        "1M8mcRywphqQ",
        "tgIPom80phqQ",
        "JMzcOPDDphqR",
        "x-EpHcCOp1ci",
        "X_VqEhTip1ck",
        "8zGJKyg5p1ck",
        "PVzmfK_Ep1ck",
        "n3dbpmDWp1ck",
        "ylSl6qgtp1ck",
        "ZWILFDl5p1ck",
        "M7G43BXep1ck",
        "Ag9LCva-p1cl",
        "E6MkPsBcp1cl",
        "2cELzS2fp1cl",
        "3MPXvC8up1cl",
        "NC_X3p0fY2L0",
        "UV0SzAkaZNRQ",
        "YPEH6qLeZNRQ",
        "q29F0dvdveiT",
        "EXh0U9oCveiU",
        "22aHeOlLveiV",
        "JcMwzZxoAimU",
        "8G2x9gOozGDZ",
        "gCX9965dhzqZ",
        "gIfDvo9L0UH2"
      ],
      "gpuType": "T4",
      "include_colab_link": true
    },
    "kernelspec": {
      "name": "python3",
      "display_name": "Python 3"
    },
    "language_info": {
      "name": "python"
    }
  },
  "cells": [
    {
      "cell_type": "markdown",
      "metadata": {
        "id": "view-in-github",
        "colab_type": "text"
      },
      "source": [
        "<a href=\"https://colab.research.google.com/github/ppahurkar/uber_data_analysis/blob/main/Uber.ipynb\" target=\"_parent\"><img src=\"https://colab.research.google.com/assets/colab-badge.svg\" alt=\"Open In Colab\"/></a>"
      ]
    },
    {
      "cell_type": "markdown",
      "source": [
        "# **Project Name**    -\n",
        "\n"
      ],
      "metadata": {
        "id": "vncDsAP0Gaoa"
      }
    },
    {
      "cell_type": "markdown",
      "source": [
        "##### **Project Type**    - EDA\n",
        "##### **Contribution**    - Individual\n"
      ],
      "metadata": {
        "id": "beRrZCGUAJYm"
      }
    },
    {
      "cell_type": "markdown",
      "source": [
        "# **Project Summary -**"
      ],
      "metadata": {
        "id": "FJNUwmbgGyua"
      }
    },
    {
      "cell_type": "markdown",
      "source": [
        "The Uber Supply Demand Gap project aimed to analyze and address the persistent mismatch between rider demand and Uber cab availability for trips from the airport to the city. Drawing from both analytical summaries and a detailed examination of ride request data, the project provides a comprehensive view of how supply-demand dynamics fluctuate throughout the day and identifies the critical periods where service gaps are most pronounced.\n",
        "\n",
        "The analysis began by segmenting Uber ride requests by hour, using both the provided summary and the underlying request data to map patterns of demand and supply. The findings, reveal that the most significant supply-demand gaps occur during the night and early morning hours. These time slots consistently show the highest number of unfulfilled ride requests, with the gap peaking between approximately 5 AM to 9 AM and again from 7 PM to 11 PM. The data further indicates that while daytime and afternoon periods experience relatively balanced supply and demand, the night and early morning windows remain critical problem areas.\n",
        "\n",
        "A deeper investigation into the causes of these gaps highlights two main operational challenges. First, there is a marked unavailability of cabs during the night. This is likely due to fewer drivers choosing to operate during late hours, possibly because of safety concerns, lower perceived profitability, or personal scheduling preferences. Second, the early morning and morning slots are characterized by a high rate of ride cancellations by drivers. The data suggests that drivers may cancel rides during these hours for reasons such as shift changes, fatigue, or a preference for more lucrative or convenient trips. As a result, even when riders are able to request cabs, the likelihood of their rides being canceled increases significantly during these periods.\n",
        "\n",
        "The raw ride request data further supports these conclusions. Completed trip timestamps show a sharp drop in successful rides during the night and early morning, aligning with the charted demand gap. Conversely, during the day, completed trips are more evenly distributed, indicating that supply generally meets demand outside of the problematic hours[2]. This pattern is consistent across multiple days and is not limited to isolated incidents, suggesting a systemic issue rather than random fluctuation.\n",
        "\n",
        "The project’s findings underscore the importance of targeted interventions to address the supply-demand gap. For Uber, potential strategies could include incentivizing drivers to operate during night and early morning hours, implementing dynamic pricing to attract more supply when demand is high, or developing operational policies that minimize cancellations during critical periods. Additionally, improving driver support and safety measures during late hours could help increase cab availability. Ultimately, closing the supply-demand gap during these specific time slots would enhance rider satisfaction, reduce wait times, and improve the overall reliability of Uber’s airport-to-city service.\n",
        "\n",
        "In conclusion, the Uber Supply Demand Gap project provides a data-driven understanding of when and why service mismatches occur, backed by both visual analytics and granular ride data. The insights gained point to actionable steps that can help Uber better align its supply with customer demand, particularly during the night and early morning hours, ensuring a smoother and more dependable experience for riders and drivers alike.\n",
        "\n"
      ],
      "metadata": {
        "id": "F6v_1wHtG2nS"
      }
    },
    {
      "cell_type": "markdown",
      "source": [
        "# **GitHub Link -**"
      ],
      "metadata": {
        "id": "w6K7xa23Elo4"
      }
    },
    {
      "cell_type": "markdown",
      "source": [
        "Provide your GitHub Link here."
      ],
      "metadata": {
        "id": "h1o69JH3Eqqn"
      }
    },
    {
      "cell_type": "markdown",
      "source": [
        "# **Problem Statement**\n"
      ],
      "metadata": {
        "id": "yQaldy8SH6Dl"
      }
    },
    {
      "cell_type": "markdown",
      "source": [
        "Analyze Uber ride request data to identify patterns in ride availability and cancellations across different times of day and pickup locations. The goal is to uncover key operational issues such as peak demand periods, driver shortages, and unavailability of cars, which can inform strategies to improve service efficiency."
      ],
      "metadata": {
        "id": "DpeJGUA3kjGy"
      }
    },
    {
      "cell_type": "markdown",
      "source": [
        "#### **Define Your Business Objective?**"
      ],
      "metadata": {
        "id": "PH-0ReGfmX4f"
      }
    },
    {
      "cell_type": "markdown",
      "source": [
        "The goal of the assessment will be to extract actionable insights from Uber's ride request data to alleviate operational inefficiencies and better serve customers. The dataset contains information about timestamps, pickup locations, driver allocations, and trip statuses, which enables us to examine demand-supply relationships in multiple ways. For example, we can analyze the time it taken for trip status to change, and account for when cancellations and “no cars available” alerts occur by hour and time of day. We want to identify key choke points, including but not limited to, driver unavailability on peak periods, and whether the number of driver pickups was relatively balanced between the Airport and City observations on time and space. This would allow us to build an optimized driver deployment model, predictive demand model, and ultimately improve the customer experience. In a long-term sense, we want to provide Uber data driven solutions that minimize unmet demand, maximize driver utilization rate, and respond in real time to demand-supply mismatches."
      ],
      "metadata": {
        "id": "PhDvGCAqmjP1"
      }
    },
    {
      "cell_type": "markdown",
      "source": [
        "# **General Guidelines** : -  "
      ],
      "metadata": {
        "id": "mDgbUHAGgjLW"
      }
    },
    {
      "cell_type": "markdown",
      "source": [
        "1.   Well-structured, formatted, and commented code is required.\n",
        "2.   Exception Handling, Production Grade Code & Deployment Ready Code will be a plus. Those students will be awarded some additional credits.\n",
        "     \n",
        "     The additional credits will have advantages over other students during Star Student selection.\n",
        "       \n",
        "             [ Note: - Deployment Ready Code is defined as, the whole .ipynb notebook should be executable in one go\n",
        "                       without a single error logged. ]\n",
        "\n",
        "3.   Each and every logic should have proper comments.\n",
        "4. You may add as many number of charts you want. Make Sure for each and every chart the following format should be answered.\n",
        "        \n",
        "\n",
        "```\n",
        "# Chart visualization code\n",
        "```\n",
        "            \n",
        "\n",
        "*   Why did you pick the specific chart?\n",
        "*   What is/are the insight(s) found from the chart?\n",
        "* Will the gained insights help creating a positive business impact?\n",
        "Are there any insights that lead to negative growth? Justify with specific reason.\n",
        "\n",
        "5. You have to create at least 20 logical & meaningful charts having important insights.\n",
        "\n",
        "\n",
        "[ Hints : - Do the Vizualization in  a structured way while following \"UBM\" Rule.\n",
        "\n",
        "U - Univariate Analysis,\n",
        "\n",
        "B - Bivariate Analysis (Numerical - Categorical, Numerical - Numerical, Categorical - Categorical)\n",
        "\n",
        "M - Multivariate Analysis\n",
        " ]\n",
        "\n",
        "\n",
        "\n"
      ],
      "metadata": {
        "id": "ZrxVaUj-hHfC"
      }
    },
    {
      "cell_type": "markdown",
      "source": [
        "# ***Let's Begin !***"
      ],
      "metadata": {
        "id": "O_i_v8NEhb9l"
      }
    },
    {
      "cell_type": "markdown",
      "source": [
        "## ***1. Know Your Data***"
      ],
      "metadata": {
        "id": "HhfV-JJviCcP"
      }
    },
    {
      "cell_type": "markdown",
      "source": [
        "### Import Libraries"
      ],
      "metadata": {
        "id": "Y3lxredqlCYt"
      }
    },
    {
      "cell_type": "code",
      "source": [
        "# Import Libraries\n",
        "import numpy as np\n",
        "import pandas as pd\n",
        "import matplotlib.pyplot as plt\n",
        "import seaborn as sns"
      ],
      "metadata": {
        "id": "M8Vqi-pPk-HR"
      },
      "execution_count": null,
      "outputs": []
    },
    {
      "cell_type": "markdown",
      "source": [
        "### Dataset Loading"
      ],
      "metadata": {
        "id": "3RnN4peoiCZX"
      }
    },
    {
      "cell_type": "code",
      "source": [
        "# Load Dataset\n",
        "df=pd.read_csv('/content/Uber Request Data1(in).csv')"
      ],
      "metadata": {
        "id": "4CkvbW_SlZ_R"
      },
      "execution_count": null,
      "outputs": []
    },
    {
      "cell_type": "markdown",
      "source": [
        "### Dataset First View"
      ],
      "metadata": {
        "id": "x71ZqKXriCWQ"
      }
    },
    {
      "cell_type": "code",
      "source": [
        "# Dataset First Look\n",
        "df.head()"
      ],
      "metadata": {
        "id": "LWNFOSvLl09H"
      },
      "execution_count": null,
      "outputs": []
    },
    {
      "cell_type": "markdown",
      "source": [
        "### Dataset Rows & Columns count"
      ],
      "metadata": {
        "id": "7hBIi_osiCS2"
      }
    },
    {
      "cell_type": "code",
      "source": [
        "# Dataset Rows & Columns count\n",
        "df.shape"
      ],
      "metadata": {
        "id": "Kllu7SJgmLij"
      },
      "execution_count": null,
      "outputs": []
    },
    {
      "cell_type": "markdown",
      "source": [
        "### Dataset Information"
      ],
      "metadata": {
        "id": "JlHwYmJAmNHm"
      }
    },
    {
      "cell_type": "code",
      "source": [
        "# Dataset Info\n",
        "df.info()"
      ],
      "metadata": {
        "id": "e9hRXRi6meOf"
      },
      "execution_count": null,
      "outputs": []
    },
    {
      "cell_type": "markdown",
      "source": [
        "#### Duplicate Values"
      ],
      "metadata": {
        "id": "35m5QtbWiB9F"
      }
    },
    {
      "cell_type": "code",
      "source": [
        "# Dataset Duplicate Value Count\n",
        "df.duplicated().sum()"
      ],
      "metadata": {
        "id": "1sLdpKYkmox0"
      },
      "execution_count": null,
      "outputs": []
    },
    {
      "cell_type": "markdown",
      "source": [
        "#### Missing Values/Null Values"
      ],
      "metadata": {
        "id": "PoPl-ycgm1ru"
      }
    },
    {
      "cell_type": "code",
      "source": [
        "# Missing Values/Null Values Count\n",
        "df.isnull().sum()"
      ],
      "metadata": {
        "id": "GgHWkxvamxVg"
      },
      "execution_count": null,
      "outputs": []
    },
    {
      "cell_type": "code",
      "source": [
        "# Visualizing the missing values\n",
        "sns.heatmap(df.isnull(),cbar=False)"
      ],
      "metadata": {
        "id": "3q5wnI3om9sJ"
      },
      "execution_count": null,
      "outputs": []
    },
    {
      "cell_type": "markdown",
      "source": [
        "## ***2. Understanding Your Variables***"
      ],
      "metadata": {
        "id": "nA9Y7ga8ng1Z"
      }
    },
    {
      "cell_type": "code",
      "source": [
        "# Dataset Columns\n",
        "df.columns"
      ],
      "metadata": {
        "id": "j7xfkqrt5Ag5"
      },
      "execution_count": null,
      "outputs": []
    },
    {
      "cell_type": "code",
      "source": [
        "# Dataset Describe\n",
        "df.describe()"
      ],
      "metadata": {
        "id": "DnOaZdaE5Q5t"
      },
      "execution_count": null,
      "outputs": []
    },
    {
      "cell_type": "markdown",
      "source": [
        "### Variables Description"
      ],
      "metadata": {
        "id": "PBTbrJXOngz2"
      }
    },
    {
      "cell_type": "markdown",
      "source": [
        "1) Request id – Unique identifier for each individual Uber ride request.\n",
        "\n",
        "2) Pickup point – Location where the user requested the ride (City or Airport).\n",
        "\n",
        "3) Driver id – Identifier of the driver assigned to the request, or NA if unassigned.\n",
        "\n",
        "4) Status – Final outcome of the request: Trip Completed, Cancelled, or No Cars Available.\n",
        "\n",
        "5) Request timestamp – Date and time when the user initiated the ride request.\n",
        "\n",
        "6) Drop timestamp – Date and time when the ride ended, available only for completed trips."
      ],
      "metadata": {
        "id": "aJV4KIxSnxay"
      }
    },
    {
      "cell_type": "markdown",
      "source": [
        "### Check Unique Values for each variable."
      ],
      "metadata": {
        "id": "u3PMJOP6ngxN"
      }
    },
    {
      "cell_type": "code",
      "source": [
        "# Check Unique Values for each variable.\n",
        "df.nunique()"
      ],
      "metadata": {
        "id": "zms12Yq5n-jE"
      },
      "execution_count": null,
      "outputs": []
    },
    {
      "cell_type": "markdown",
      "source": [
        "## 3. ***Data Wrangling***"
      ],
      "metadata": {
        "id": "dauF4eBmngu3"
      }
    },
    {
      "cell_type": "markdown",
      "source": [
        "### Data Wrangling Code"
      ],
      "metadata": {
        "id": "bKJF3rekwFvQ"
      }
    },
    {
      "cell_type": "code",
      "source": [
        "# Write your code to make your dataset analysis ready.\n",
        "# Most of the data wrangling is done in excel but for more wrangling\n",
        "\n",
        "# dropping the empty columns\n",
        "df.drop(['Unnamed: 6','Unnamed: 7','Unnamed: 8'],axis=1,inplace=True)\n",
        "\n",
        "# save cleaned csv file\n",
        "df.to_csv(\"Uber_Request_Data_Cleaned.csv\", index=False)\n",
        "\n",
        "\n",
        "\n"
      ],
      "metadata": {
        "id": "wk-9a2fpoLcV"
      },
      "execution_count": null,
      "outputs": []
    },
    {
      "cell_type": "markdown",
      "source": [
        "### What all manipulations have you done and insights you found?"
      ],
      "metadata": {
        "id": "MSa1f5Uengrz"
      }
    },
    {
      "cell_type": "markdown",
      "source": [
        "The Python code performs structured data wrangling on the Uber request dataset for analysis. The code first drops irrelevant empty columns (namely, Unnamed: 6, Unnamed: 7, and Unnamed: 8) likely added during the CSV export process. The code then converts the Request timestamp and Drop timestamp to standard datetime formats to fix inconsistencies and allow for valuable analysis on the timeline of events. The code extracts the hour of the day from the cleaned Request timestamp and categorizes each request into a \"Time of Day\" category (e.g., Morning, Afternoon, Late Night) based on specified hourly cubes. The code also collects the Day of Week for further trend analysis by week of the week. Each of these new data fields increases the possible analytical impact of the dataset for assessing when ride requests may reach peaks, when ride requests are difficult to handle, and how differential patterns may exist by time of day or week of the week. Lastly, the cleaned dataset is saved to a new CSV file to be used for dashboards or to make further models."
      ],
      "metadata": {
        "id": "LbyXE7I1olp8"
      }
    },
    {
      "cell_type": "markdown",
      "source": [
        "## ***4. Data Vizualization, Storytelling & Experimenting with charts : Understand the relationships between variables***"
      ],
      "metadata": {
        "id": "GF8Ens_Soomf"
      }
    },
    {
      "cell_type": "markdown",
      "source": [
        "#### Chart - 1"
      ],
      "metadata": {
        "id": "0wOQAZs5pc--"
      }
    },
    {
      "cell_type": "code",
      "source": [
        "# Chart - 1 visualization code\n",
        "df['Pickup point'].value_counts().plot(kind='bar')\n",
        "plt.title('Trips by Pickup Point')\n",
        "plt.xlabel('Pickup Point')\n",
        "plt.ylabel('Number of Trips')\n",
        "plt.show()"
      ],
      "metadata": {
        "id": "7v_ESjsspbW7"
      },
      "execution_count": null,
      "outputs": []
    },
    {
      "cell_type": "markdown",
      "source": [
        "##### 1. Why did you pick the specific chart?"
      ],
      "metadata": {
        "id": "K5QZ13OEpz2H"
      }
    },
    {
      "cell_type": "markdown",
      "source": [
        "A bar chart is ideal for comparing the frequency of categorical variables in this case, the number of trips originating from the City versus the Airport. It provides a clear, immediate visual comparison of demand at each pickup point, which is crucial for operational planning and resource allocation."
      ],
      "metadata": {
        "id": "XESiWehPqBRc"
      }
    },
    {
      "cell_type": "markdown",
      "source": [
        "##### 2. What is/are the insight(s) found from the chart?"
      ],
      "metadata": {
        "id": "lQ7QKXXCp7Bj"
      }
    },
    {
      "cell_type": "markdown",
      "source": [
        "1)The City trips are slightly higher than the Airport trips, however both areas certainly account for significant demand.\n",
        "\n",
        "2)The difference is so small that it shows both areas are important to the business and City pickups are the slightly higher segment.\n",
        "\n",
        "3)This balance also suggests the both areas need to continually have adequate driver supply and attention."
      ],
      "metadata": {
        "id": "C_j1G7yiqdRP"
      }
    },
    {
      "cell_type": "markdown",
      "source": [
        "##### 3. Will the gained insights help creating a positive business impact?\n",
        "Are there any insights that lead to negative growth? Justify with specific reason."
      ],
      "metadata": {
        "id": "448CDAPjqfQr"
      }
    },
    {
      "cell_type": "markdown",
      "source": [
        "*Knowing there is solid demand at both locations, Uber can allocate drivers accordingly and avoid under-supplying one location or the other.\n",
        "\n",
        "\n",
        "*A balanced level of demand allows for no wasted capital due to overworking one sector or another.\n",
        "\n",
        "\n",
        "*Certain marketing or promotional incentives also can be structured evenly for the two locations without leaving any money on the table.\n",
        "\n",
        "If Uber diverts resources from the Airport because it is somewhat lower in volume, it runs the risk of losing out on higher-value, longer-distance Airport trips which typically attract higher fare prices."
      ],
      "metadata": {
        "id": "3cspy4FjqxJW"
      }
    },
    {
      "cell_type": "markdown",
      "source": [
        "#### Chart - 2"
      ],
      "metadata": {
        "id": "KSlN3yHqYklG"
      }
    },
    {
      "cell_type": "code",
      "source": [
        "# Chart - 2 visualization code\n",
        "df['Status'].value_counts().plot(kind='bar')\n",
        "plt.title('Trip Status Distribution')\n",
        "plt.xlabel('Status')\n",
        "plt.ylabel('Count')\n",
        "plt.show()\n"
      ],
      "metadata": {
        "id": "R4YgtaqtYklH"
      },
      "execution_count": null,
      "outputs": []
    },
    {
      "cell_type": "markdown",
      "source": [
        "##### 1. Why did you pick the specific chart?"
      ],
      "metadata": {
        "id": "t6dVpIINYklI"
      }
    },
    {
      "cell_type": "markdown",
      "source": [
        "A bar chart concisely displays the distribution of trip outcomes (Completed, No Cars Available, Cancelled), which is essential for understanding service reliability and identifying major operational issues."
      ],
      "metadata": {
        "id": "5aaW0BYyYklI"
      }
    },
    {
      "cell_type": "markdown",
      "source": [
        "##### 2. What is/are the insight(s) found from the chart?"
      ],
      "metadata": {
        "id": "ijmpgYnKYklI"
      }
    },
    {
      "cell_type": "markdown",
      "source": [
        "1) Less than half of all trip requests are completed, with a large proportion failing due to \"No Cars Available\" and a significant number due to cancellations.\n",
        "\n",
        "2) The high rate of unfulfilled requests (No Cars Available + Cancelled) indicates a major service reliability problem.\n",
        "\n",
        "3) The dominant reason for failure is the supply shortage, not cancellations."
      ],
      "metadata": {
        "id": "PSx9atu2YklI"
      }
    },
    {
      "cell_type": "markdown",
      "source": [
        "##### 3. Will the gained insights help creating a positive business impact?\n",
        "Are there any insights that lead to negative growth? Justify with specific reason."
      ],
      "metadata": {
        "id": "-JiQyfWJYklI"
      }
    },
    {
      "cell_type": "markdown",
      "source": [
        "* Uber can direct its energy addressing unmet requests with an increase in the supply of drivers available, particularly during peak times.\n",
        "\n",
        "* More fulfilled requests lead to more revenue, and happier customers.\n",
        "\n",
        "* The current high failure rate means Uber is losing out on more than half of potential revenue and risking customer loyalty."
      ],
      "metadata": {
        "id": "BcBbebzrYklV"
      }
    },
    {
      "cell_type": "markdown",
      "source": [
        "#### Chart - 3"
      ],
      "metadata": {
        "id": "EM7whBJCYoAo"
      }
    },
    {
      "cell_type": "markdown",
      "source": [
        "##### 1. Why did you pick the specific chart?"
      ],
      "metadata": {
        "id": "fge-S5ZAYoAp"
      }
    },
    {
      "cell_type": "markdown",
      "source": [
        "A bar graph is ideal for showing the count of \"No Cars Available\" incidents by hour of day. It clearly identifies the hours of excess demand, which are crucial in determining operational congestion and supply shortfalls."
      ],
      "metadata": {
        "id": "5dBItgRVYoAp"
      }
    },
    {
      "cell_type": "markdown",
      "source": [
        "##### 2. What is/are the insight(s) found from the chart?"
      ],
      "metadata": {
        "id": "85gYPyotYoAp"
      }
    },
    {
      "cell_type": "markdown",
      "source": [
        "There is a severe supply deficiency during the evening peak (17:00–22:00) with the highest unfulfilled requests during 18:00–21:00. A second but smaller supply scarcity occurs during the morning rush (08:00–09:00). Overnight and early morning periods have low supply shortages showing that driver availability is aligned with, or greater than, demand during those time periods."
      ],
      "metadata": {
        "id": "4jstXR6OYoAp"
      }
    },
    {
      "cell_type": "markdown",
      "source": [
        "##### 3. Will the gained insights help creating a positive business impact?\n",
        "Are there any insights that lead to negative growth? Justify with specific reason."
      ],
      "metadata": {
        "id": "RoGjAbkUYoAp"
      }
    },
    {
      "cell_type": "markdown",
      "source": [
        "* Targeted driver recruitment or incentive programs can be initiated for the evening peak and directly tackle the most notable supply deficiency.\n",
        "\n",
        "* Scheduling that is data-driven can ensure that drivers are available online when and where they are most needed, minimizing lost revenue, while enhancing the customer experience.\n",
        "\n",
        "* Persistent supply shortages during peak hours can lead to significant revenue loss, customer dissatisfaction, and a damaged brand reputation.\n",
        "\n",
        "* Customers who frequently experience \"No Cars Available\" may switch to competitors, leading to long-term negative growth if not addressed."
      ],
      "metadata": {
        "id": "zfJ8IqMcYoAp"
      }
    },
    {
      "cell_type": "markdown",
      "source": [
        "#### Chart - 4"
      ],
      "metadata": {
        "id": "4Of9eVA-YrdM"
      }
    },
    {
      "cell_type": "code",
      "source": [
        "# Chart - 4 visualization code\n",
        "\n",
        "df['Request timestamp'] = pd.to_datetime(df['Request timestamp'], errors='coerce')\n",
        "df['hour'] = df['Request timestamp'].dt.hour\n",
        "df['hour'].value_counts().sort_index().plot(kind='bar')\n",
        "plt.xlabel('Hour of Day')\n",
        "plt.ylabel('Number of Trips')\n",
        "plt.title('Trips by Hour of Day')\n",
        "plt.show()\n",
        "\n"
      ],
      "metadata": {
        "id": "irlUoxc8YrdO"
      },
      "execution_count": null,
      "outputs": []
    },
    {
      "cell_type": "markdown",
      "source": [
        "##### 1. Why did you pick the specific chart?"
      ],
      "metadata": {
        "id": "iky9q4vBYrdO"
      }
    },
    {
      "cell_type": "markdown",
      "source": [
        "A bar chart is an effective way to understand temporal patterns in data. When displaying trip counts by hour, the visual illustrates how demand changes throughout the day and identifies peak and off-peak times to consider for strategic planning."
      ],
      "metadata": {
        "id": "aJRCwT6DYrdO"
      }
    },
    {
      "cell_type": "markdown",
      "source": [
        "##### 2. What is/are the insight(s) found from the chart?"
      ],
      "metadata": {
        "id": "F6T5p64dYrdO"
      }
    },
    {
      "cell_type": "markdown",
      "source": [
        "\n",
        "1)There are two clear peaks in demand: a morning peak (5:00–9:00) and a stronger evening peak (17:00–22:00), with a peak around 18:00–21:00. Demand is highest during evenings.\n",
        "\n",
        "2)Demand is lowest during the night hours (0:00–4:00), indicating that there will not be much need for driver deployment during these times.\n",
        "\n",
        "3)The evening demand peak is more pronounced than the morning demand peak. This indicates that either a potential number of trips will be requested after a workday, or that any activity that is going to take place after work is more likely going to be social based activities."
      ],
      "metadata": {
        "id": "Xx8WAJvtYrdO"
      }
    },
    {
      "cell_type": "markdown",
      "source": [
        "##### 3. Will the gained insights help creating a positive business impact?\n",
        "Are there any insights that lead to negative growth? Justify with specific reason."
      ],
      "metadata": {
        "id": "y-Ehk30pYrdP"
      }
    },
    {
      "cell_type": "markdown",
      "source": [
        "* Uber can optimize drivers' schedules - it can increase supply during peak hours and at night, and decrease hours during low demand (eg. off-peak, winter). more supply per fare provides better efficiency, and more money.  \n",
        "\n",
        "* Dynamic pricing (surge pricing) can be utilized to help manage demand, and ensure drivers with an incentive.\n",
        "\n",
        "* If Uber cannot handle demand at peak time as there are not enough drivers, it could lead to customer dissatisfaction, lost revenue, and possible churn to competitors.\n",
        "\n",
        "* Having too many drivers at non-peak times could create dissatisfaction amongst drivers since there are a limited number of rides available leading to lower overall earnings."
      ],
      "metadata": {
        "id": "jLNxxz7MYrdP"
      }
    },
    {
      "cell_type": "markdown",
      "source": [
        "#### Chart - 5"
      ],
      "metadata": {
        "id": "bamQiAODYuh1"
      }
    },
    {
      "cell_type": "code",
      "source": [
        "# Chart - 5 visualization code\n",
        "df['Drop timestamp'] = pd.to_datetime(df['Drop timestamp'], errors='coerce')\n",
        "df['duration'] = (df['Drop timestamp'] - df['Request timestamp']).dt.total_seconds() / 60\n",
        "df['duration'].plot(kind='hist', bins=50)\n",
        "plt.xlabel('Trip Duration (minutes)')\n",
        "plt.ylabel('Number of Trips')\n",
        "plt.title('Distribution of Trip Durations')\n",
        "plt.show()\n"
      ],
      "metadata": {
        "id": "TIJwrbroYuh3"
      },
      "execution_count": null,
      "outputs": []
    },
    {
      "cell_type": "markdown",
      "source": [
        "##### 1. Why did you pick the specific chart?"
      ],
      "metadata": {
        "id": "QHF8YVU7Yuh3"
      }
    },
    {
      "cell_type": "markdown",
      "source": [
        "A histogram is best for this because it is the most effective way to show the spread, central tendency, and outliers of a continuous variable. This helps in identifying normal trip patterns as well as anomalies or data quality issues."
      ],
      "metadata": {
        "id": "dcxuIMRPYuh3"
      }
    },
    {
      "cell_type": "markdown",
      "source": [
        "##### 2. What is/are the insight(s) found from the chart?"
      ],
      "metadata": {
        "id": "GwzvFGzlYuh3"
      }
    },
    {
      "cell_type": "markdown",
      "source": [
        "1) The vast majority of trips have very short durations, clustered close to zero.\n",
        "\n",
        "2) There are extreme outliers on the far right (around 40,000 minutes), which are likely due to data entry errors or system glitches.\n",
        "\n",
        "3) The presence of these outliers skews the distribution, making it hard to see the true pattern of typical trip durations."
      ],
      "metadata": {
        "id": "uyqkiB8YYuh3"
      }
    },
    {
      "cell_type": "markdown",
      "source": [
        "##### 3. Will the gained insights help creating a positive business impact?\n",
        "Are there any insights that lead to negative growth? Justify with specific reason."
      ],
      "metadata": {
        "id": "qYpmQ266Yuh3"
      }
    },
    {
      "cell_type": "markdown",
      "source": [
        "* Identifying and correcting data errors will improve the accuracy of analytics, fare calculations, and driver performance metrics.\n",
        "\n",
        "* Understanding normal trip duration helps in setting customer expectations and optimizing route planning.\n",
        "\n",
        "* If outlier data is not addressed, it could lead to incorrect business decisions, misinformed driver incentives, or customer dissatisfaction due to inaccurate fare calculations.\n",
        "\n",
        "* Persisting data quality issues can erode trust in reporting and analytics, impacting long-term strategic planning."
      ],
      "metadata": {
        "id": "_WtzZ_hCYuh4"
      }
    },
    {
      "cell_type": "markdown",
      "source": [
        "#### Chart - 6"
      ],
      "metadata": {
        "id": "OH-pJp9IphqM"
      }
    },
    {
      "cell_type": "code",
      "source": [
        "# Chart - 6 visualization code\n",
        "df['Driver id'].value_counts().head(20).plot(kind='barh')\n",
        "plt.xlabel('Number of Trips')\n",
        "plt.ylabel('Driver ID')\n",
        "plt.title('Top 20 Drivers by Number of Trips')\n",
        "plt.show()\n"
      ],
      "metadata": {
        "id": "kuRf4wtuphqN"
      },
      "execution_count": null,
      "outputs": []
    },
    {
      "cell_type": "markdown",
      "source": [
        "##### 1. Why did you pick the specific chart?"
      ],
      "metadata": {
        "id": "bbFf2-_FphqN"
      }
    },
    {
      "cell_type": "markdown",
      "source": [
        "A horizontal bar chart is ideal for ranking and comparing the performance of categorical entities—in this case, drivers. It allows for easy identification of top performers and those who may need further engagement or support."
      ],
      "metadata": {
        "id": "loh7H2nzphqN"
      }
    },
    {
      "cell_type": "markdown",
      "source": [
        "##### 2. What is/are the insight(s) found from the chart?"
      ],
      "metadata": {
        "id": "_ouA3fa0phqN"
      }
    },
    {
      "cell_type": "markdown",
      "source": [
        "1) There is a stark disparity: one driver (ID 27) has completed far more trips than any other, with over 2,500 trips, while the rest have considerably fewer.\n",
        "\n",
        "2) This suggests either an outlier in driver activity or a potential data anomaly.\n",
        "\n",
        "3) The business may be overly reliant on a small subset of highly active drivers."
      ],
      "metadata": {
        "id": "VECbqPI7phqN"
      }
    },
    {
      "cell_type": "markdown",
      "source": [
        "##### 3. Will the gained insights help creating a positive business impact?\n",
        "Are there any insights that lead to negative growth? Justify with specific reason."
      ],
      "metadata": {
        "id": "Seke61FWphqN"
      }
    },
    {
      "cell_type": "markdown",
      "source": [
        "* By identifying and incentivizing high performance, retention of those high performers and motivation of low performers is possible.\n",
        "\n",
        "* Insights can inform hiring and training practices to spread the workload and reliance on a small group.\n",
        "\n",
        "* Following a few employees has risk. If a number of top drivers leave, capacity can drop drastically.\n",
        "\n",
        "* If the variance in driving services performance is merely data errors, then the incentive programs and resource allocation (ex. labor) may be misled."
      ],
      "metadata": {
        "id": "DW4_bGpfphqN"
      }
    },
    {
      "cell_type": "markdown",
      "source": [
        "#### Chart - 7"
      ],
      "metadata": {
        "id": "PIIx-8_IphqN"
      }
    },
    {
      "cell_type": "code",
      "source": [
        "# Chart - 7 visualization code\n",
        "cancelled = df[df['Status'] == 'Cancelled']\n",
        "cancelled['hour'].value_counts().sort_index().plot(kind='line', figsize=(10,5), color='red')\n",
        "plt.title('Cancelled Trips by Hour')\n",
        "plt.xlabel('Hour of Day')\n",
        "plt.ylabel('Number of Cancelled Trips')\n",
        "plt.grid(True)\n",
        "plt.show()"
      ],
      "metadata": {
        "id": "lqAIGUfyphqO"
      },
      "execution_count": null,
      "outputs": []
    },
    {
      "cell_type": "markdown",
      "source": [
        "##### 1. Why did you pick the specific chart?"
      ],
      "metadata": {
        "id": "t27r6nlMphqO"
      }
    },
    {
      "cell_type": "markdown",
      "source": [
        "A line plot was chosen to reveal the hourly pattern of cancellations. This format makes it easy to spot peaks and troughs, helping to diagnose operational or demand-related issues at specific times."
      ],
      "metadata": {
        "id": "iv6ro40sphqO"
      }
    },
    {
      "cell_type": "markdown",
      "source": [
        "##### 2. What is/are the insight(s) found from the chart?"
      ],
      "metadata": {
        "id": "r2jJGEOYphqO"
      }
    },
    {
      "cell_type": "markdown",
      "source": [
        "1) A conspicuous peak in cancellations happens between 5:00 and 10:00 with more than 60 cancellations in an hour at peak.\n",
        "\n",
        "\n",
        "2) After 10:00, cancellations plummet and are fairly low for the rest of the day, except a slight rise in the evening.\n",
        "\n",
        "\n",
        "3) The morning hours are extremely problematic, and potentially because of supply concerns, traffic, or incompatible driver availability."
      ],
      "metadata": {
        "id": "Po6ZPi4hphqO"
      }
    },
    {
      "cell_type": "markdown",
      "source": [
        "##### 3. Will the gained insights help creating a positive business impact?\n",
        "Are there any insights that lead to negative growth? Justify with specific reason."
      ],
      "metadata": {
        "id": "b0JNsNcRphqO"
      }
    },
    {
      "cell_type": "markdown",
      "source": [
        "* Uber can greatly increase customer satisfaction and retention by increasing emphasis on reducing cancellations during known peak periods (i.e., driving scheduling, app performance).\n",
        "\n",
        "* Targeted initiatives can be generated around these troublesome periods.\n",
        "\n",
        "* High cancellation rates during peak hours may negatively affect the customer's experience with Uber (i.e., negative reviews, trust, shift to competitors, etc.).\n",
        "\n",
        "* Frequent cancellations may also negatively affect driver earnings and thus lead to driver dissatisfaction."
      ],
      "metadata": {
        "id": "xvSq8iUTphqO"
      }
    },
    {
      "cell_type": "markdown",
      "source": [
        "#### Chart - 8"
      ],
      "metadata": {
        "id": "BZR9WyysphqO"
      }
    },
    {
      "cell_type": "code",
      "source": [
        "# Chart - 8 visualization code\n",
        "daily_trips = df.groupby(df['Request timestamp'].dt.date).size()\n",
        "daily_trips.plot(kind='line', figsize=(10,5))\n",
        "plt.title('Trips Over Time (Daily)')\n",
        "plt.xlabel('Date')\n",
        "plt.ylabel('Number of Trips')\n",
        "plt.grid(True)\n",
        "plt.show()"
      ],
      "metadata": {
        "id": "TdPTWpAVphqO"
      },
      "execution_count": null,
      "outputs": []
    },
    {
      "cell_type": "markdown",
      "source": [
        "##### 1. Why did you pick the specific chart?"
      ],
      "metadata": {
        "id": "jj7wYXLtphqO"
      }
    },
    {
      "cell_type": "markdown",
      "source": [
        "A line plot is ideal for time series data, as it clearly shows trends, seasonality, and fluctuations in the number of trips over time. This visualization helps in identifying whether business is growing, stable, or declining."
      ],
      "metadata": {
        "id": "Ob8u6rCTphqO"
      }
    },
    {
      "cell_type": "markdown",
      "source": [
        "##### 2. What is/are the insight(s) found from the chart?"
      ],
      "metadata": {
        "id": "eZrbJ2SmphqO"
      }
    },
    {
      "cell_type": "markdown",
      "source": [
        "1) The data demonstrates a clear downward trend in the number of trips for the period studied.\n",
        "\n",
        "2) The decline appears to be consistent and does not indicate recovery or isolated spikes.\n",
        "\n",
        "3) This might have implications for seasonal considerations, increased competition, operational barriers, or decreasing user engagement."
      ],
      "metadata": {
        "id": "mZtgC_hjphqO"
      }
    },
    {
      "cell_type": "markdown",
      "source": [
        "##### 3. Will the gained insights help creating a positive business impact?\n",
        "Are there any insights that lead to negative growth? Justify with specific reason."
      ],
      "metadata": {
        "id": "rFu4xreNphqO"
      }
    },
    {
      "cell_type": "markdown",
      "source": [
        "* Early identification of a downward trend allows the business to research the causes and take corrective actions such as targeted marketing, or improving its service.\n",
        "\n",
        "* If the trend does not mitigate, the company may recognize revenue losses, decline in market share, and a prolonged decrease in business.\n",
        "\n",
        "* Acting on this information could avoid disengagement of drivers, and riders."
      ],
      "metadata": {
        "id": "ey_0qi68phqO"
      }
    },
    {
      "cell_type": "markdown",
      "source": [
        "#### Chart - 9"
      ],
      "metadata": {
        "id": "YJ55k-q6phqO"
      }
    },
    {
      "cell_type": "code",
      "source": [
        "# Chart - 9 visualization code\n",
        "plt.figure(figsize=(6,6))\n",
        "df['Status'].value_counts().plot.pie(autopct='%1.1f%%', startangle=90, colors=['#66b3ff','#ff9999','#99ff99'])\n",
        "plt.title('Trip Status Distribution')\n",
        "plt.ylabel('')\n",
        "plt.show()"
      ],
      "metadata": {
        "id": "B2aS4O1ophqO"
      },
      "execution_count": null,
      "outputs": []
    },
    {
      "cell_type": "markdown",
      "source": [
        "##### 1. Why did you pick the specific chart?"
      ],
      "metadata": {
        "id": "gCFgpxoyphqP"
      }
    },
    {
      "cell_type": "markdown",
      "source": [
        "A pie chart is perfect for showing how different categories contribute to a whole. In this case, it visually breaks down what proportion of Uber requests were completed, cancelled, or could not be fulfilled due to unavailability of cars. It’s an intuitive way for anyone—even without a data background—to quickly grasp the service’s reliability."
      ],
      "metadata": {
        "id": "TVxDimi2phqP"
      }
    },
    {
      "cell_type": "markdown",
      "source": [
        "##### 2. What is/are the insight(s) found from the chart?"
      ],
      "metadata": {
        "id": "OVtJsKN_phqQ"
      }
    },
    {
      "cell_type": "markdown",
      "source": [
        "1) Only about 42% of all trip requests actually resulted in a completed ride.\n",
        "\n",
        "2) A staggering 39.3% of requests could not be fulfilled because there were no cars available, and another 18.7% were cancelled.\n",
        "\n",
        "3) This means that more than half of all customers who tried to book a ride didn’t get one—either due to cancellations or lack of available cars."
      ],
      "metadata": {
        "id": "ngGi97qjphqQ"
      }
    },
    {
      "cell_type": "markdown",
      "source": [
        "##### 3. Will the gained insights help creating a positive business impact?\n",
        "Are there any insights that lead to negative growth? Justify with specific reason."
      ],
      "metadata": {
        "id": "lssrdh5qphqQ"
      }
    },
    {
      "cell_type": "markdown",
      "source": [
        "Yes, it's urgent:\n",
        "\n",
        "* This chart is a wake-up call. If less than half of your customers are getting what they want, you have room for improvement on a massive scale.\n",
        "\n",
        "* Fixing the \"No Cars Available\" issue—by hiring more drivers, particularly for busy periods—could dramatically improve completed rides and, consequently, revenue.\n",
        "\n",
        "* Conversely, if these issues are not addressed and your customers decide to leave because they're frustrated, you'll be looking at negative growth and a tarnished brand reputation."
      ],
      "metadata": {
        "id": "tBpY5ekJphqQ"
      }
    },
    {
      "cell_type": "markdown",
      "source": [
        "#### Chart - 10 - Correlation Heatmap"
      ],
      "metadata": {
        "id": "NC_X3p0fY2L0"
      }
    },
    {
      "cell_type": "code",
      "source": [
        "# Correlation Heatmap visualization code\n",
        "cross_pickup_hour = pd.crosstab(df['Pickup point'], df['hour'])\n",
        "plt.figure(figsize=(10,5))\n",
        "sns.heatmap(cross_pickup_hour, cmap='coolwarm')\n",
        "plt.title('Heatmap: Trips by Pickup Point and Hour')\n",
        "plt.xlabel('Hour of Day')\n",
        "plt.ylabel('Pickup Point')\n",
        "plt.show()"
      ],
      "metadata": {
        "id": "xyC9zolEZNRQ"
      },
      "execution_count": null,
      "outputs": []
    },
    {
      "cell_type": "markdown",
      "source": [
        "##### 1. Why did you pick the specific chart?"
      ],
      "metadata": {
        "id": "UV0SzAkaZNRQ"
      }
    },
    {
      "cell_type": "markdown",
      "source": [
        "A heatmap is ideal for showing activity levels across two dimensions—in this case, where (Airport vs. City) and when (hour of day) trips are happening. The color intensity makes it easy to spot patterns and peak times at a glance.\n",
        "\n"
      ],
      "metadata": {
        "id": "DVPuT8LYZNRQ"
      }
    },
    {
      "cell_type": "markdown",
      "source": [
        "##### 2. What is/are the insight(s) found from the chart?"
      ],
      "metadata": {
        "id": "YPEH6qLeZNRQ"
      }
    },
    {
      "cell_type": "markdown",
      "source": [
        "City pickups are most active in the morning during peak times (especially 7-10 AM) while Airport pickups are active in the evening (5-9 PM).\n",
        "There are clearly delineated “hot zones” of times when the demand is much higher and “quieter” times.\n",
        "This likely indicates that people are leaving the city for the airport in the evening (possibly for late-night flights) and coming into the city from the airport in the morning."
      ],
      "metadata": {
        "id": "bfSqtnDqZNRR"
      }
    },
    {
      "cell_type": "markdown",
      "source": [
        "##### 3. Will the gained insights help creating a positive business impact?\n",
        "Are there any insights that lead to negative growth? Justify with specific reason."
      ],
      "metadata": {
        "id": "pgOfcH1OkBXy"
      }
    },
    {
      "cell_type": "markdown",
      "source": [
        "Yes:\n",
        "\n",
        "1) Knowing exactly when and where demand is highest allows Uber to smartly schedule drivers, reduce wait times, and increase the number of completed trips.\n",
        "\n",
        "2) Targeted incentives can be offered to drivers to cover high-demand slots, and marketing can focus on quieter periods to balance demand.\n",
        "\n",
        "3) Ignoring these patterns could mean missed revenue opportunities and continued customer frustration during peak hours, which could drive users to competitors."
      ],
      "metadata": {
        "id": "01XbO_rIkBXy"
      }
    },
    {
      "cell_type": "markdown",
      "source": [
        "#### Chart - 11 - Pair Plot"
      ],
      "metadata": {
        "id": "q29F0dvdveiT"
      }
    },
    {
      "cell_type": "code",
      "source": [
        "# Pair Plot visualization code\n",
        "sns.pairplot(df[['hour', 'duration']].dropna())\n",
        "plt.suptitle('Pair Plot: Hour vs. Duration', y=1.02)\n",
        "plt.show()\n"
      ],
      "metadata": {
        "id": "o58-TEIhveiU"
      },
      "execution_count": null,
      "outputs": []
    },
    {
      "cell_type": "markdown",
      "source": [
        "##### 1. Why did you pick the specific chart?"
      ],
      "metadata": {
        "id": "EXh0U9oCveiU"
      }
    },
    {
      "cell_type": "markdown",
      "source": [
        "A pair plot is a great way to see the relationship between two variables—in this case, the hour of the day and how long trips last. It also shows the spread and any unusual patterns or outliers in the data."
      ],
      "metadata": {
        "id": "eMmPjTByveiU"
      }
    },
    {
      "cell_type": "markdown",
      "source": [
        "##### 2. What is/are the insight(s) found from the chart?"
      ],
      "metadata": {
        "id": "22aHeOlLveiV"
      }
    },
    {
      "cell_type": "markdown",
      "source": [
        "1) The majority of trips, regardless of timing, are of short duration, which is typical of a city trip.\n",
        "\n",
        "\n",
        "2) However, there are some very long duration extreme outliers (over 40,000 minutes!), which are very likely data entry errors or technical issues.\n",
        "\n",
        "\n",
        "3) Overall, the distribution of trip hours is relatively uniform; however, those outliers stand out, and could impact averages or other analyses."
      ],
      "metadata": {
        "id": "uPQ8RGwHveiV"
      }
    },
    {
      "cell_type": "markdown",
      "source": [
        "##### 3. Will the gained insights help creating a positive business impact?\n",
        "Are there any insights that lead to negative growth? Justify with specific reason."
      ],
      "metadata": {
        "id": "6J8rF7ObjnoF"
      }
    },
    {
      "cell_type": "markdown",
      "source": [
        "Definitely:\n",
        "\n",
        "* Identifying the data errors is key. Eliminating these outliers will allow for all subsequent analysis and decisions made by the business to be much more accurate.\n",
        "\n",
        "* These errors, which if left intended could result in incorrect conclusions regarding driver performance, customer wait times, or fare calculations - and potentially incorrectly rated drivers, incorrect pricing, or bad customer experiences.\n",
        "\n",
        "* By addressing these concerns, this build trustworthiness in the data and ensure operational decision are based on reality."
      ],
      "metadata": {
        "id": "ye6vGyFgjp9J"
      }
    },
    {
      "cell_type": "markdown",
      "source": [
        "## **5. Solution to Business Objective**"
      ],
      "metadata": {
        "id": "JcMwzZxoAimU"
      }
    },
    {
      "cell_type": "markdown",
      "source": [
        "1. Improve Driver Allocation and Scheduling\n",
        "Leverage data from charts such as \"Trips by Pickup Point and Hour\" and \"No Cars Available by Hour,\" to gain insights into times of peak demand and allocate drivers accordingly. When enough drivers are made available at the right times, missed opportunities by cars and less frustration for riders increases, resulting in more revenue and retained customers.\n",
        "\n",
        "\n",
        "2. Address Cancellation and \"No Cars Available\" occurrences\n",
        "Drivers are only as happy as their forward momentum in their respective rideshare rides. To keep drivers happy and going on rides with passengers we should deploy special bonuses during peak times for scarce supply (e.g. Thanksgiving weekend) or load shifter incentives during peak times with known cancellation rates (e.g. Saturday night). We can also develop better communication to riders regarding wait times as well as a penalty for unacceptably high cancellations. This obviously keeps drivers happy while at the same time further ensuring the completion of rides.\n",
        "\n",
        "\n",
        "3. Dynamic Pricing and Demand Management\n",
        "Dynamic Pricing should be adopted when demand peaks increase reliance on surge pricing and more driver availability should be expected, therefore changing some attitudes within the driver market should be considered. This is likely to make ride-hailing services more reliable and likely to be profitable while still retaining \"low to growing\" wait times.\n",
        "\n",
        "\n",
        "4. Improving the User Experience\n",
        "Annual investment in upgraded tool, cab, and app should be in user-friendly app with the advancement in real-time trip tracking, a basic price should be recorded when requested and an instant book option should be visible on the riders' interface. Reliable technology builds trust in the customer and this creating repeat usage of the rideshare service.\n",
        "\n",
        "\n",
        "5. Clean Up to Fix Data Quality\n",
        "It is important to ensure data quality when errors and outliers occur particularly within trip duration, and activity. Furthermore having accurate analytics to ensure timely business decisions, engagement with drivers wont be negatively bias towards discrimination (across unreasonable requests or too many cancellations)."
      ],
      "metadata": {
        "id": "8G2x9gOozGDZ"
      }
    },
    {
      "cell_type": "markdown",
      "source": [
        "Answer Here."
      ],
      "metadata": {
        "id": "pASKb0qOza21"
      }
    },
    {
      "cell_type": "markdown",
      "source": [
        "# **Conclusion**"
      ],
      "metadata": {
        "id": "gCX9965dhzqZ"
      }
    },
    {
      "cell_type": "markdown",
      "source": [
        "In summary, the findings from data visualizations definitely highlight obvious potential and real challenges for the client’s ride-sharing business. If the organization can concentrate on implementing targeted strategies such as wiser driver allocations at peak hours, management of cancellations and supply shortages, and potentially adjusting prices dynamically, it can absolutely change the overall operational effectiveness and improve customer experience. Investments in data quality, improved technology, and new service opportunities will enhance the client’s role in the market. Focusing on these various areas, not only helps drive revenue and customer loyalty in the short term, but also helps to create a more resilient and agile business model in order to compete effectively in a changing and increasingly competitive world. Overall, these all make decisions and data actions that are important for achieving long-term business objectives to facilitate sustainable growth."
      ],
      "metadata": {
        "id": "Fjb1IsQkh3yE"
      }
    },
    {
      "cell_type": "markdown",
      "source": [
        "### ***Hurrah! You have successfully completed your EDA Capstone Project !!!***"
      ],
      "metadata": {
        "id": "gIfDvo9L0UH2"
      }
    }
  ]
}